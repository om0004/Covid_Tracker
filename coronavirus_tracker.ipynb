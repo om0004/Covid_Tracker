{
 "cells": [
  {
   "cell_type": "code",
   "execution_count": 26,
   "metadata": {},
   "outputs": [
    {
     "name": "stdout",
     "output_type": "stream",
     "text": [
      "worldwide\n",
      "New Confirmed Cases:623213\n",
      "New Deaths:10240\n",
      "New Recovered Cases:1506921\n",
      "Total Confirmed Cases:71694121\n",
      "Total Deaths:1604917\n",
      "Total Recovered Cases:46848398\n",
      "Enter location:(press q to quit)\n",
      "india\n",
      "New Confirmed Cases:30254\n",
      "New Deaths:391\n",
      "New Recovered Cases:33136\n",
      "Total Confirmed Cases:9857029\n",
      "Total Deaths:143019\n",
      "Total Recovered Cases:9357464\n",
      "Enter location:(press q to quit)\n",
      "australia\n",
      "New Confirmed Cases:5\n",
      "New Deaths:0\n",
      "New Recovered Cases:4\n",
      "Total Confirmed Cases:28030\n",
      "Total Deaths:908\n",
      "Total Recovered Cases:25675\n",
      "Enter location:(press q to quit)\n",
      "q\n"
     ]
    }
   ],
   "source": [
    "import webbrowser,json,requests\n",
    "re=requests.get(\"https://api.covid19api.com/summary\")\n",
    "d=json.loads(re.text)\n",
    "print(\"worldwide\")\n",
    "latest=d['Global']\n",
    "print(\"New Confirmed Cases:\"+str(latest['NewConfirmed']))\n",
    "print(\"New Deaths:\"+str(latest['NewDeaths']))\n",
    "print(\"New Recovered Cases:\"+str(latest['NewRecovered']))\n",
    "print(\"Total Confirmed Cases:\"+str(latest['TotalConfirmed']))\n",
    "print(\"Total Deaths:\"+str(latest['TotalDeaths']))\n",
    "print(\"Total Recovered Cases:\"+str(latest['TotalRecovered']))\n",
    "location=''\n",
    "while location!='Q':\n",
    "    print(\"Enter location:(press q to quit)\")\n",
    "    location=input()\n",
    "    location=location[0:1].upper()+location[1:]\n",
    "    l=d['Countries']\n",
    "    country=[z for z in l if z['Country']==location]#to search a list of dictionaries!\n",
    "    if len(country)==0:\n",
    "        if location!='Q':\n",
    "            print(\"invalid country!\")\n",
    "        continue\n",
    "    else:\n",
    "        country=country[0]\n",
    "        print(\"New Confirmed Cases:\"+str(country['NewConfirmed']))\n",
    "        print(\"New Deaths:\"+str(country['NewDeaths']))\n",
    "        print(\"New Recovered Cases:\"+str(country['NewRecovered']))\n",
    "        print(\"Total Confirmed Cases:\"+str(country['TotalConfirmed']))\n",
    "        print(\"Total Deaths:\"+str(country['TotalDeaths']))\n",
    "        print(\"Total Recovered Cases:\"+str(country['TotalRecovered']))"
   ]
  },
  {
   "cell_type": "code",
   "execution_count": null,
   "metadata": {},
   "outputs": [],
   "source": []
  }
 ],
 "metadata": {
  "kernelspec": {
   "display_name": "Python 3",
   "language": "python",
   "name": "python3"
  },
  "language_info": {
   "codemirror_mode": {
    "name": "ipython",
    "version": 3
   },
   "file_extension": ".py",
   "mimetype": "text/x-python",
   "name": "python",
   "nbconvert_exporter": "python",
   "pygments_lexer": "ipython3",
   "version": "3.9.0"
  }
 },
 "nbformat": 4,
 "nbformat_minor": 4
}
